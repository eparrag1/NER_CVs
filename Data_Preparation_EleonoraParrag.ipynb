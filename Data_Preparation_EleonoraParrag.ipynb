{
 "cells": [
  {
   "cell_type": "markdown",
   "id": "2bb4700e",
   "metadata": {},
   "source": [
    "# Data Preparation for NER"
   ]
  },
  {
   "cell_type": "markdown",
   "id": "0abf9ea4",
   "metadata": {},
   "source": [
    "## Getting the data"
   ]
  },
  {
   "cell_type": "code",
   "execution_count": 1,
   "id": "39526928",
   "metadata": {},
   "outputs": [],
   "source": [
    "import pandas as pd\n",
    "import numpy as np\n",
    "import matplotlib.pyplot as plt"
   ]
  },
  {
   "cell_type": "markdown",
   "id": "988114e8",
   "metadata": {},
   "source": [
    "Starting off by reading in the skills list we are going to be using:"
   ]
  },
  {
   "cell_type": "code",
   "execution_count": 2,
   "id": "98c6e498",
   "metadata": {},
   "outputs": [
    {
     "name": "stdout",
     "output_type": "stream",
     "text": [
      "36941\n"
     ]
    }
   ],
   "source": [
    "skills_list = []\n",
    "with open('linkedin_skill.txt', encoding=\"utf8\") as file:#read in the skills list\n",
    "    for line in file:\n",
    "        skills_list.append(line.strip('\\n').lower())#remove the newline \\n and make lower case\n",
    "print(len(skills_list))#how many skills?"
   ]
  },
  {
   "cell_type": "markdown",
   "id": "50ad32af",
   "metadata": {},
   "source": [
    "Let's take a look at what it looks like:"
   ]
  },
  {
   "cell_type": "code",
   "execution_count": 3,
   "id": "bb55a774",
   "metadata": {},
   "outputs": [
    {
     "data": {
      "text/plain": [
       "['(isc)2',\n",
       " '.net',\n",
       " '.net clr',\n",
       " '.net compact framework',\n",
       " '.net framework',\n",
       " '.net remoting',\n",
       " '.net core',\n",
       " '.com',\n",
       " '.htaccess',\n",
       " '1-4 units']"
      ]
     },
     "execution_count": 3,
     "metadata": {},
     "output_type": "execute_result"
    }
   ],
   "source": [
    "skills_list[0:10]"
   ]
  },
  {
   "cell_type": "markdown",
   "id": "0cd05826",
   "metadata": {},
   "source": [
    "Getting data for CV content"
   ]
  },
  {
   "cell_type": "code",
   "execution_count": 4,
   "id": "f185d108",
   "metadata": {},
   "outputs": [
    {
     "data": {
      "text/html": [
       "<div>\n",
       "<style scoped>\n",
       "    .dataframe tbody tr th:only-of-type {\n",
       "        vertical-align: middle;\n",
       "    }\n",
       "\n",
       "    .dataframe tbody tr th {\n",
       "        vertical-align: top;\n",
       "    }\n",
       "\n",
       "    .dataframe thead th {\n",
       "        text-align: right;\n",
       "    }\n",
       "</style>\n",
       "<table border=\"1\" class=\"dataframe\">\n",
       "  <thead>\n",
       "    <tr style=\"text-align: right;\">\n",
       "      <th></th>\n",
       "      <th>Category</th>\n",
       "      <th>Resume</th>\n",
       "    </tr>\n",
       "  </thead>\n",
       "  <tbody>\n",
       "    <tr>\n",
       "      <th>0</th>\n",
       "      <td>Data Science</td>\n",
       "      <td>Skills * Programming Languages: Python (pandas...</td>\n",
       "    </tr>\n",
       "    <tr>\n",
       "      <th>1</th>\n",
       "      <td>Data Science</td>\n",
       "      <td>Education Details \\r\\nMay 2013 to May 2017 B.E...</td>\n",
       "    </tr>\n",
       "    <tr>\n",
       "      <th>2</th>\n",
       "      <td>Data Science</td>\n",
       "      <td>Areas of Interest Deep Learning, Control Syste...</td>\n",
       "    </tr>\n",
       "    <tr>\n",
       "      <th>3</th>\n",
       "      <td>Data Science</td>\n",
       "      <td>Skills â¢ R â¢ Python â¢ SAP HANA â¢ Table...</td>\n",
       "    </tr>\n",
       "    <tr>\n",
       "      <th>4</th>\n",
       "      <td>Data Science</td>\n",
       "      <td>Education Details \\r\\n MCA   YMCAUST,  Faridab...</td>\n",
       "    </tr>\n",
       "    <tr>\n",
       "      <th>...</th>\n",
       "      <td>...</td>\n",
       "      <td>...</td>\n",
       "    </tr>\n",
       "    <tr>\n",
       "      <th>957</th>\n",
       "      <td>Testing</td>\n",
       "      <td>Computer Skills: â¢ Proficient in MS office (...</td>\n",
       "    </tr>\n",
       "    <tr>\n",
       "      <th>958</th>\n",
       "      <td>Testing</td>\n",
       "      <td>â Willingness to accept the challenges. â ...</td>\n",
       "    </tr>\n",
       "    <tr>\n",
       "      <th>959</th>\n",
       "      <td>Testing</td>\n",
       "      <td>PERSONAL SKILLS â¢ Quick learner, â¢ Eagerne...</td>\n",
       "    </tr>\n",
       "    <tr>\n",
       "      <th>960</th>\n",
       "      <td>Testing</td>\n",
       "      <td>COMPUTER SKILLS &amp; SOFTWARE KNOWLEDGE MS-Power ...</td>\n",
       "    </tr>\n",
       "    <tr>\n",
       "      <th>961</th>\n",
       "      <td>Testing</td>\n",
       "      <td>Skill Set OS Windows XP/7/8/8.1/10 Database MY...</td>\n",
       "    </tr>\n",
       "  </tbody>\n",
       "</table>\n",
       "<p>962 rows × 2 columns</p>\n",
       "</div>"
      ],
      "text/plain": [
       "         Category                                             Resume\n",
       "0    Data Science  Skills * Programming Languages: Python (pandas...\n",
       "1    Data Science  Education Details \\r\\nMay 2013 to May 2017 B.E...\n",
       "2    Data Science  Areas of Interest Deep Learning, Control Syste...\n",
       "3    Data Science  Skills â¢ R â¢ Python â¢ SAP HANA â¢ Table...\n",
       "4    Data Science  Education Details \\r\\n MCA   YMCAUST,  Faridab...\n",
       "..            ...                                                ...\n",
       "957       Testing  Computer Skills: â¢ Proficient in MS office (...\n",
       "958       Testing  â Willingness to accept the challenges. â ...\n",
       "959       Testing  PERSONAL SKILLS â¢ Quick learner, â¢ Eagerne...\n",
       "960       Testing  COMPUTER SKILLS & SOFTWARE KNOWLEDGE MS-Power ...\n",
       "961       Testing  Skill Set OS Windows XP/7/8/8.1/10 Database MY...\n",
       "\n",
       "[962 rows x 2 columns]"
      ]
     },
     "execution_count": 4,
     "metadata": {},
     "output_type": "execute_result"
    }
   ],
   "source": [
    "CV_data = pd.read_csv('UpdatedResumeDataSet.csv')#read in the CV list\n",
    "CV_data"
   ]
  },
  {
   "cell_type": "markdown",
   "id": "4316ef1c",
   "metadata": {},
   "source": [
    "Let's check what this text looks like"
   ]
  },
  {
   "cell_type": "code",
   "execution_count": 5,
   "id": "5e4a5d8b",
   "metadata": {},
   "outputs": [
    {
     "data": {
      "text/plain": [
       "'Skills * Programming Languages: Python (pandas, numpy, scipy, scikit-learn, matplotlib), Sql, Java, JavaScript/JQuery. * Machine learning: Regression, SVM, NaÃ¯ve Bayes, KNN, Random Forest, Decision Trees, Boosting techniques, Cluster Analysis, Word Embedding, Sentiment Analysis, Natural Language processing, Dimensionality reduction, Topic Modelling (LDA, NMF), PCA & Neural Nets. * Database Visualizations: Mysql, SqlServer, Cassandra, Hbase, ElasticSearch D3.js, DC.js, Plotly, kibana, matplotlib, ggplot, Tableau. * Others: Regular Expression, HTML, CSS, Angular 6, Logstash, Kafka, Python Flask, Git, Docker, computer vision - Open CV and understanding of Deep learning.Education Details \\r\\n\\r\\nData Science Assurance Associate \\r\\n\\r\\nData Science Assurance Associate - Ernst & Young LLP\\r\\nSkill Details \\r\\nJAVASCRIPT- Exprience - 24 months\\r\\njQuery- Exprience - 24 months\\r\\nPython- Exprience - 24 monthsCompany Details \\r\\ncompany - Ernst & Young LLP\\r\\ndescription - Fraud Investigations and Dispute Services   Assurance\\r\\nTECHNOLOGY ASSISTED REVIEW\\r\\nTAR (Technology Assisted Review) assists in accelerating the review process and run analytics and generate reports.\\r\\n* Core member of a team helped in developing automated review platform tool from scratch for assisting E discovery domain, this tool implements predictive coding and topic modelling by automating reviews, resulting in reduced labor costs and time spent during the lawyers review.\\r\\n* Understand the end to end flow of the solution, doing research and development for classification models, predictive analysis and mining of the information present in text data. Worked on analyzing the outputs and precision monitoring for the entire tool.\\r\\n* TAR assists in predictive coding, topic modelling from the evidence by following EY standards. Developed the classifier models in order to identify \"red flags\" and fraud-related issues.\\r\\n\\r\\nTools & Technologies: Python, scikit-learn, tfidf, word2vec, doc2vec, cosine similarity, NaÃ¯ve Bayes, LDA, NMF for topic modelling, Vader and text blob for sentiment analysis. Matplot lib, Tableau dashboard for reporting.\\r\\n\\r\\nMULTIPLE DATA SCIENCE AND ANALYTIC PROJECTS (USA CLIENTS)\\r\\nTEXT ANALYTICS - MOTOR VEHICLE CUSTOMER REVIEW DATA * Received customer feedback survey data for past one year. Performed sentiment (Positive, Negative & Neutral) and time series analysis on customer comments across all 4 categories.\\r\\n* Created heat map of terms by survey category based on frequency of words * Extracted Positive and Negative words across all the Survey categories and plotted Word cloud.\\r\\n* Created customized tableau dashboards for effective reporting and visualizations.\\r\\nCHATBOT * Developed a user friendly chatbot for one of our Products which handle simple questions about hours of operation, reservation options and so on.\\r\\n* This chat bot serves entire product related questions. Giving overview of tool via QA platform and also give recommendation responses so that user question to build chain of relevant answer.\\r\\n* This too has intelligence to build the pipeline of questions as per user requirement and asks the relevant /recommended questions.\\r\\n\\r\\nTools & Technologies: Python, Natural language processing, NLTK, spacy, topic modelling, Sentiment analysis, Word Embedding, scikit-learn, JavaScript/JQuery, SqlServer\\r\\n\\r\\nINFORMATION GOVERNANCE\\r\\nOrganizations to make informed decisions about all of the information they store. The integrated Information Governance portfolio synthesizes intelligence across unstructured data sources and facilitates action to ensure organizations are best positioned to counter information risk.\\r\\n* Scan data from multiple sources of formats and parse different file formats, extract Meta data information, push results for indexing elastic search and created customized, interactive dashboards using kibana.\\r\\n* Preforming ROT Analysis on the data which give information of data which helps identify content that is either Redundant, Outdated, or Trivial.\\r\\n* Preforming full-text search analysis on elastic search with predefined methods which can tag as (PII) personally identifiable information (social security numbers, addresses, names, etc.) which frequently targeted during cyber-attacks.\\r\\nTools & Technologies: Python, Flask, Elastic Search, Kibana\\r\\n\\r\\nFRAUD ANALYTIC PLATFORM\\r\\nFraud Analytics and investigative platform to review all red flag cases.\\r\\nâ\\x80¢ FAP is a Fraud Analytics and investigative platform with inbuilt case manager and suite of Analytics for various ERP systems.\\r\\n* It can be used by clients to interrogate their Accounting systems for identifying the anomalies which can be indicators of fraud by running advanced analytics\\r\\nTools & Technologies: HTML, JavaScript, SqlServer, JQuery, CSS, Bootstrap, Node.js, D3.js, DC.js'"
      ]
     },
     "execution_count": 5,
     "metadata": {},
     "output_type": "execute_result"
    }
   ],
   "source": [
    "sample_text = CV_data['Resume'][0]#look at the first line\n",
    "sample_text"
   ]
  },
  {
   "cell_type": "markdown",
   "id": "5514a121",
   "metadata": {},
   "source": [
    "## Data Cleaning"
   ]
  },
  {
   "cell_type": "markdown",
   "id": "1d3efabf",
   "metadata": {},
   "source": [
    "Removing newlines and other punctuation we don't want - but keeping full stops as they are needed for some skills"
   ]
  },
  {
   "cell_type": "code",
   "execution_count": 6,
   "id": "36012329",
   "metadata": {},
   "outputs": [
    {
     "data": {
      "text/plain": [
       "' Willingness to accept the challenge'"
      ]
     },
     "execution_count": 6,
     "metadata": {},
     "output_type": "execute_result"
    }
   ],
   "source": [
    "string = 'â Willingness to accept the challenge'.encode(\"ascii\", errors=\"ignore\").decode()\n",
    "string#test how to get rid of extra characters"
   ]
  },
  {
   "cell_type": "code",
   "execution_count": 7,
   "id": "4e1827d9",
   "metadata": {},
   "outputs": [],
   "source": [
    "sample_text = sample_text.replace('(','') #remove unwanted punctuation\n",
    "sample_text = sample_text.replace(')','')\n",
    "sample_text = sample_text.replace('\\n',' ')\n",
    "sample_text = sample_text.replace('\\r',' ')\n",
    "sample_text = sample_text.replace('*','')\n",
    "sample_text = sample_text.replace(',',' ')\n",
    "sample_text = sample_text.replace(':',' ')\n",
    "sample_text = sample_text.replace('/',' ')\n",
    "sample_text = sample_text.replace('  ',' ')\n",
    "sample_text = sample_text.replace('   ',' ')\n",
    "sample_text = sample_text.replace('    ',' ')\n",
    "sample_text = sample_text.encode(\"ascii\", errors=\"ignore\").decode()"
   ]
  },
  {
   "cell_type": "markdown",
   "id": "78e1e04f",
   "metadata": {},
   "source": [
    "Converting to lower case for the word search"
   ]
  },
  {
   "cell_type": "code",
   "execution_count": 8,
   "id": "729888b5",
   "metadata": {},
   "outputs": [],
   "source": [
    "lower_sample_text = sample_text.lower()#make a lowercase version of the text"
   ]
  },
  {
   "cell_type": "markdown",
   "id": "1cc86814",
   "metadata": {},
   "source": [
    "Separating out single and multiple words in the skills list"
   ]
  },
  {
   "cell_type": "code",
   "execution_count": 9,
   "id": "4897daa9",
   "metadata": {},
   "outputs": [
    {
     "data": {
      "text/plain": [
       "['.net clr',\n",
       " '.net compact framework',\n",
       " '.net framework',\n",
       " '.net remoting',\n",
       " '.net core',\n",
       " '1-4 units',\n",
       " '1-to-1 marketing',\n",
       " '100% financing',\n",
       " '1031 exchanges',\n",
       " '1099 preparation']"
      ]
     },
     "execution_count": 9,
     "metadata": {},
     "output_type": "execute_result"
    }
   ],
   "source": [
    "skills_single_words = []#list of single word skills\n",
    "skills_multi_words = []#list of multi word skills\n",
    "for i in skills_list:\n",
    "    if ' ' in i:#it's multi word if there's a space\n",
    "        skills_multi_words.append(i)\n",
    "    else:\n",
    "        skills_single_words.append(i)\n",
    "skills_multi_words[0:10]"
   ]
  },
  {
   "cell_type": "markdown",
   "id": "e98eeff8",
   "metadata": {},
   "source": [
    "Replacing spaces with dashes in a list "
   ]
  },
  {
   "cell_type": "code",
   "execution_count": 10,
   "id": "c54a9a26",
   "metadata": {},
   "outputs": [
    {
     "data": {
      "text/plain": [
       "['.net_clr',\n",
       " '.net_compact_framework',\n",
       " '.net_framework',\n",
       " '.net_remoting',\n",
       " '.net_core',\n",
       " '1-4_units',\n",
       " '1-to-1_marketing',\n",
       " '100%_financing',\n",
       " '1031_exchanges',\n",
       " '1099_preparation']"
      ]
     },
     "execution_count": 10,
     "metadata": {},
     "output_type": "execute_result"
    }
   ],
   "source": [
    "skills_dash = []\n",
    "for i in skills_multi_words:\n",
    "    i = i.replace(' ', '_')#now can switch multi words skills to one 'token' to be idenitifed\n",
    "    skills_dash.append(i)\n",
    "skills_dash[0:10]"
   ]
  },
  {
   "cell_type": "markdown",
   "id": "04a2acb2",
   "metadata": {},
   "source": [
    "Now we can go through the sample text and replace multiple words with words separated by dashes"
   ]
  },
  {
   "cell_type": "code",
   "execution_count": 11,
   "id": "5d884248",
   "metadata": {},
   "outputs": [
    {
     "data": {
      "text/plain": [
       "'skills programming_languages python pandas numpy scipy scikit-learn matplotlib sql java javascript jquery. machine_learning regression svm nave bayes knn random forest decision_trees boosting techniques cluster_analysis word embedding sentiment_analysis natural_language_processing dimensionality_reduction topic modelling lda nmf pca & neural nets. database visualizations mysql sqlserver cassandra hbase elasticsearch d3.js dc.js plotly kibana matplotlib ggplot tableau. others regular expression html css angular 6 logstash kafka python flask git docker computer_vision - open cv and understanding of deep_learning.education details data_science assurance associate data_science assurance associate - ernst & young llp skill details  javascript- exprience - 24 months jquery- exprience - 24 months python- exprience - 24 monthscompany details  company - ernst & young llp description - fraud_investigations and dispute services  assurance technology assisted review tar technology assisted review assists in accelerating the review process and run analytics and generate reports.  core member of a team helped in developing automated review platform tool from scratch for assisting e discovery domain this tool implements predictive coding and topic modelling by automating reviews resulting in reduced labor costs and time spent during the lawyers review.  understand the end to end flow of the solution doing research and development for classification models predictive analysis and mining of the information present in text data. worked on analyzing the outputs and precision monitoring for the entire tool.  tar assists in predictive coding topic modelling from the evidence by following ey standards. developed the classifier models in order to identify \"red_flags\" and fraud-related issues.  tools & technologies python scikit-learn tfidf word2vec doc2vec cosine similarity nave bayes lda nmf for topic modelling vader and text blob for sentiment_analysis. matplot lib tableau dashboard for reporting.  multiple data_science and analytic projects usa clients text_analytics - motor_vehicle customer review data received customer feedback survey data for past one year. performed sentiment positive negative & neutral and time_series_analysis on customer comments across all 4 categories.  created heat map of terms by survey category based on frequency of words extracted positive and negative words across all the survey categories and plotted word cloud.  created customized tableau dashboards for effective reporting and visualizations. chatbot developed a user_friendly chatbot for one of our products which handle simple questions about hours of operation reservation options and so on.  this chat bot serves entire product related questions. giving overview of tool via qa platform and also give recommendation responses so that user question to build chain of relevant answer.  this too has intelligence to build the pipeline of questions as per user requirement and asks the relevant recommended questions.  tools & technologies python natural_language_processing nltk spacy topic modelling sentiment_analysis word embedding scikit-learn javascript jquery sqlserver  information_governance organizations to make informed decisions about all of the information they store. the integrated information_governance portfolio synthesizes intelligence across unstructured_data sources and facilitates action to ensure organizations are best positioned to counter information_risk.  scan data from multiple sources of formats and parse different file formats extract meta data information push results for indexing elastic search and created customized interactive dashboards using kibana.  preforming rot analysis on the data which give information of data which helps identify content that is either redundant outdated or trivial.  preforming full-text search_analysis on elastic search with predefined methods which can tag as pii personally identifiable information social_security numbers addresses names etc. which frequently targeted during cyber-attacks. tools & technologies python flask elastic search kibana  fraud analytic platform fraud analytics and investigative platform to review all red flag cases.  fap is a fraud analytics and investigative platform with inbuilt case manager and suite of analytics for various erp systems.  it can be used by clients to interrogate their accounting_systems for identifying the anomalies which can be indicators of fraud by running advanced analytics tools & technologies html javascript sqlserver jquery css bootstrap node.js d3.js dc.js'"
      ]
     },
     "execution_count": 11,
     "metadata": {},
     "output_type": "execute_result"
    }
   ],
   "source": [
    "for i in range(len(skills_multi_words)):\n",
    "    lower_sample_text = lower_sample_text.replace(skills_multi_words[i],skills_dash[i])\n",
    "lower_sample_text#replace the multi words with one word, so text can be split into words"
   ]
  },
  {
   "cell_type": "markdown",
   "id": "ca05cd2d",
   "metadata": {},
   "source": [
    "Reassemble the skills list"
   ]
  },
  {
   "cell_type": "code",
   "execution_count": 12,
   "id": "627e9f6c",
   "metadata": {},
   "outputs": [
    {
     "name": "stdout",
     "output_type": "stream",
     "text": [
      "dump_truck\n",
      ".net\n"
     ]
    }
   ],
   "source": [
    "skills_new_set = skills_single_words + skills_dash #new words set has multi-words skills with underscores to remove spaces\n",
    "print(skills_new_set[20000])\n",
    "print(skills_new_set[1])"
   ]
  },
  {
   "cell_type": "markdown",
   "id": "fd59c336",
   "metadata": {},
   "source": [
    "Split into separate words"
   ]
  },
  {
   "cell_type": "code",
   "execution_count": 13,
   "id": "7d4be291",
   "metadata": {},
   "outputs": [],
   "source": [
    "split_sample = lower_sample_text.split(' ') #split text by words"
   ]
  },
  {
   "cell_type": "markdown",
   "id": "47d68028",
   "metadata": {},
   "source": [
    "## Test Sample"
   ]
  },
  {
   "cell_type": "code",
   "execution_count": 14,
   "id": "e16c0be5",
   "metadata": {},
   "outputs": [
    {
     "name": "stdout",
     "output_type": "stream",
     "text": [
      "programming_languages 7 28\n",
      "python 29 35\n",
      "pandas 36 42\n",
      "numpy 43 48\n",
      "scipy 49 54\n",
      "scikit-learn 55 67\n",
      "matplotlib 68 78\n",
      "sql 79 82\n",
      "java 83 87\n",
      "javascript 88 98\n",
      "machine_learning 107 123\n",
      "forest 161 167\n",
      "decision_trees 168 182\n",
      "cluster_analysis 203 219\n",
      "word 220 224\n",
      "sentiment_analysis 235 253\n",
      "natural_language_processing 254 281\n",
      "dimensionality_reduction 282 306\n",
      "lda 323 326\n",
      "pca 331 334\n",
      "database 350 358\n",
      "mysql 374 379\n",
      "cassandra 390 399\n",
      "hbase 400 405\n",
      "elasticsearch 406 419\n",
      "d3.js 420 425\n",
      "kibana 439 445\n",
      "matplotlib 446 456\n",
      "html 499 503\n",
      "css 504 507\n",
      "angular 508 515\n",
      "logstash 518 526\n",
      "kafka 527 532\n",
      "python 533 539\n",
      "flask 540 545\n",
      "git 546 549\n",
      "docker 550 556\n",
      "computer_vision 557 572\n",
      "data_science 636 648\n",
      "data_science 669 681\n",
      "llp 718 721\n",
      "llp 871 874\n",
      "fraud_investigations 889 909\n",
      "technology 942 952\n",
      "tar 969 972\n",
      "technology 973 983\n",
      "analytics 1051 1060\n",
      "scratch 1163 1170\n",
      "reviews 1277 1284\n",
      "flow 1387 1391\n",
      "research 1414 1422\n",
      "classification 1443 1457\n",
      "models 1458 1464\n",
      "mining 1489 1495\n",
      "tar 1616 1619\n",
      "models 1735 1741\n",
      "python 1823 1829\n",
      "scikit-learn 1830 1842\n",
      "lda 1895 1898\n",
      "tableau 1979 1986\n",
      "dashboard 1987 1996\n",
      "data_science 2022 2034\n",
      "text_analytics 2069 2083\n",
      "motor_vehicle 2086 2099\n",
      "customer 2100 2108\n",
      "customer 2130 2138\n",
      "survey 2148 2154\n",
      "one 2169 2172\n",
      "time_series_analysis 2231 2251\n",
      "customer 2255 2263\n",
      "heat 2307 2311\n",
      "map 2312 2315\n",
      "survey 2328 2334\n",
      "survey 2425 2431\n",
      "word 2455 2459\n",
      "tableau 2487 2494\n",
      "dashboards 2495 2505\n",
      "reporting 2520 2529\n",
      "user_friendly 2570 2583\n",
      "one 2596 2599\n",
      "options 2683 2690\n",
      "chat 2708 2712\n",
      "bot 2713 2716\n",
      "intelligence 2908 2920\n",
      "pipeline 2934 2942\n",
      "python 3047 3053\n",
      "natural_language_processing 3054 3081\n",
      "nltk 3082 3086\n",
      "sentiment_analysis 3109 3127\n",
      "word 3128 3132\n",
      "scikit-learn 3143 3155\n",
      "javascript 3156 3166\n",
      "jquery 3167 3173\n",
      "information_governance 3185 3207\n",
      "information_governance 3305 3327\n",
      "intelligence 3350 3362\n",
      "unstructured_data 3370 3387\n",
      "parse 3540 3545\n",
      "indexing 3616 3624\n",
      "search 3633 3639\n",
      "dashboards 3675 3685\n",
      "search_analysis 3865 3880\n",
      "search 3892 3898\n",
      "pii 3940 3943\n",
      "social_security 3980 3995\n",
      "numbers 3996 4003\n",
      "python 4094 4100\n",
      "flask 4101 4106\n",
      "search 4115 4121\n",
      "kibana 4122 4128\n",
      "fraud 4130 4135\n",
      "fraud 4154 4159\n",
      "analytics 4160 4169\n",
      "fraud 4237 4242\n",
      "analytics 4243 4252\n",
      "case 4293 4297\n",
      "suite 4310 4315\n",
      "analytics 4319 4328\n",
      "it 4355 4357\n",
      "indicators 4464 4474\n",
      "fraud 4478 4483\n",
      "running 4487 4494\n",
      "advanced 4495 4503\n",
      "analytics 4504 4513\n",
      "html 4535 4539\n",
      "javascript 4540 4550\n",
      "jquery 4561 4567\n",
      "css 4568 4571\n",
      "bootstrap 4572 4581\n",
      "node.js 4582 4589\n",
      "d3.js 4590 4595\n"
     ]
    }
   ],
   "source": [
    "is_skill = []\n",
    "is_skill_indices = []\n",
    "count = 0 #count how many characters have been through\n",
    "indices = []\n",
    "for i in range(len(split_sample)):\n",
    "    count1 = count \n",
    "    count  = count + len(split_sample[i])+1 #update no. characters by length of word and a space\n",
    "    for j in range(len(skills_new_set)):\n",
    "        if skills_new_set[j] == split_sample[i]: #match words\n",
    "            print(skills_new_set[j],count1,count-1)\n",
    "            indices.append((count1,count-1)) #get indices of word\n",
    "            is_skill.append(1) \n",
    "        else:\n",
    "            is_skill.append(0) "
   ]
  },
  {
   "cell_type": "code",
   "execution_count": 15,
   "id": "43d8b1b9",
   "metadata": {},
   "outputs": [
    {
     "data": {
      "text/plain": [
       "'Dimensionality reduction'"
      ]
     },
     "execution_count": 15,
     "metadata": {},
     "output_type": "execute_result"
    }
   ],
   "source": [
    "sample_text[282:306]#check some examples to see if it has orginal cases/spaces/etc."
   ]
  },
  {
   "cell_type": "code",
   "execution_count": 16,
   "id": "60ffb02f",
   "metadata": {},
   "outputs": [
    {
     "data": {
      "text/plain": [
       "'Fraud Investigations'"
      ]
     },
     "execution_count": 16,
     "metadata": {},
     "output_type": "execute_result"
    }
   ],
   "source": [
    "sample_text[889:909]"
   ]
  },
  {
   "cell_type": "code",
   "execution_count": 17,
   "id": "bf7e81c9",
   "metadata": {},
   "outputs": [
    {
     "data": {
      "text/plain": [
       "'TAR'"
      ]
     },
     "execution_count": 17,
     "metadata": {},
     "output_type": "execute_result"
    }
   ],
   "source": [
    "sample_text[969:972]"
   ]
  },
  {
   "cell_type": "code",
   "execution_count": 18,
   "id": "a42cf7d2",
   "metadata": {},
   "outputs": [
    {
     "data": {
      "text/plain": [
       "[(7, 28),\n",
       " (29, 35),\n",
       " (36, 42),\n",
       " (43, 48),\n",
       " (49, 54),\n",
       " (55, 67),\n",
       " (68, 78),\n",
       " (79, 82),\n",
       " (83, 87),\n",
       " (88, 98)]"
      ]
     },
     "execution_count": 18,
     "metadata": {},
     "output_type": "execute_result"
    }
   ],
   "source": [
    "indices[0:10]"
   ]
  },
  {
   "cell_type": "markdown",
   "id": "da38b717",
   "metadata": {},
   "source": [
    "## Preparing a function"
   ]
  },
  {
   "cell_type": "code",
   "execution_count": 19,
   "id": "d7531686",
   "metadata": {},
   "outputs": [],
   "source": [
    "#function to perform the above preprocessing steps\n",
    "def get_indices(sample_text,skills_multi_words,skills_dash,skills_new_set):\n",
    "    sample_text = sample_text.replace('(','')\n",
    "    sample_text = sample_text.replace(')','')\n",
    "    sample_text = sample_text.replace('\\n',' ')\n",
    "    sample_text = sample_text.replace('\\r',' ')\n",
    "    sample_text = sample_text.replace('*','')\n",
    "    sample_text = sample_text.replace(',',' ')\n",
    "    sample_text = sample_text.replace(':',' ')\n",
    "    sample_text = sample_text.replace('/',' ')\n",
    "    sample_text = sample_text.replace('  ',' ')\n",
    "    sample_text = sample_text.replace('   ',' ')\n",
    "    sample_text = sample_text.replace('    ',' ')\n",
    "    sample_text = sample_text.encode(\"ascii\", errors=\"ignore\").decode()\n",
    "\n",
    "    lower_sample_text = sample_text.lower()\n",
    "    \n",
    "    \n",
    "    for i in range(len(skills_multi_words)):\n",
    "        lower_sample_text = lower_sample_text.replace(skills_multi_words[i],skills_dash[i])\n",
    "        \n",
    "    split_sample = lower_sample_text.split(' ')\n",
    "    \n",
    "    is_skill_indices = []\n",
    "    count = 0\n",
    "    indices = []\n",
    "    words = []\n",
    "    for i in range(len(split_sample)):\n",
    "        count1 = count \n",
    "        count  = count + len(split_sample[i])+1\n",
    "        for j in range(len(skills_new_set)):\n",
    "            if skills_new_set[j] == split_sample[i]:\n",
    "                words.append(skills_new_set[j])\n",
    "                indices.append((count1,count-1))\n",
    "    return(sample_text,np.array(indices),words)\n",
    "#return the cleaned text (cases and spaces preserved), the indices of the skill words, and the skill words"
   ]
  },
  {
   "cell_type": "code",
   "execution_count": 20,
   "id": "07bd9a92",
   "metadata": {},
   "outputs": [],
   "source": [
    "sample_text,indices,words = get_indices(CV_data['Resume'][0],skills_multi_words,skills_dash,skills_new_set)"
   ]
  },
  {
   "cell_type": "markdown",
   "id": "6dd5f0b7",
   "metadata": {},
   "source": [
    "Example of how spacy input should look - but we will save to a csv for the purposes of this assignment"
   ]
  },
  {
   "cell_type": "code",
   "execution_count": 21,
   "id": "9512dfb3",
   "metadata": {},
   "outputs": [
    {
     "name": "stdout",
     "output_type": "stream",
     "text": [
      "{'label': 'SKILL', 'points': {'text': 'programming_languages', 'start': 7, 'end': 28}}\n",
      "{'label': 'SKILL', 'points': {'text': 'python', 'start': 29, 'end': 35}}\n",
      "{'label': 'SKILL', 'points': {'text': 'pandas', 'start': 36, 'end': 42}}\n",
      "{'label': 'SKILL', 'points': {'text': 'numpy', 'start': 43, 'end': 48}}\n",
      "{'label': 'SKILL', 'points': {'text': 'scipy', 'start': 49, 'end': 54}}\n",
      "{'label': 'SKILL', 'points': {'text': 'scikit-learn', 'start': 55, 'end': 67}}\n",
      "{'label': 'SKILL', 'points': {'text': 'matplotlib', 'start': 68, 'end': 78}}\n",
      "{'label': 'SKILL', 'points': {'text': 'sql', 'start': 79, 'end': 82}}\n",
      "{'label': 'SKILL', 'points': {'text': 'java', 'start': 83, 'end': 87}}\n",
      "{'label': 'SKILL', 'points': {'text': 'javascript', 'start': 88, 'end': 98}}\n",
      "{'label': 'SKILL', 'points': {'text': 'machine_learning', 'start': 107, 'end': 123}}\n",
      "{'label': 'SKILL', 'points': {'text': 'forest', 'start': 161, 'end': 167}}\n",
      "{'label': 'SKILL', 'points': {'text': 'decision_trees', 'start': 168, 'end': 182}}\n",
      "{'label': 'SKILL', 'points': {'text': 'cluster_analysis', 'start': 203, 'end': 219}}\n",
      "{'label': 'SKILL', 'points': {'text': 'word', 'start': 220, 'end': 224}}\n",
      "{'label': 'SKILL', 'points': {'text': 'sentiment_analysis', 'start': 235, 'end': 253}}\n",
      "{'label': 'SKILL', 'points': {'text': 'natural_language_processing', 'start': 254, 'end': 281}}\n",
      "{'label': 'SKILL', 'points': {'text': 'dimensionality_reduction', 'start': 282, 'end': 306}}\n",
      "{'label': 'SKILL', 'points': {'text': 'lda', 'start': 323, 'end': 326}}\n",
      "{'label': 'SKILL', 'points': {'text': 'pca', 'start': 331, 'end': 334}}\n",
      "{'label': 'SKILL', 'points': {'text': 'database', 'start': 350, 'end': 358}}\n",
      "{'label': 'SKILL', 'points': {'text': 'mysql', 'start': 374, 'end': 379}}\n",
      "{'label': 'SKILL', 'points': {'text': 'cassandra', 'start': 390, 'end': 399}}\n",
      "{'label': 'SKILL', 'points': {'text': 'hbase', 'start': 400, 'end': 405}}\n",
      "{'label': 'SKILL', 'points': {'text': 'elasticsearch', 'start': 406, 'end': 419}}\n",
      "{'label': 'SKILL', 'points': {'text': 'd3.js', 'start': 420, 'end': 425}}\n",
      "{'label': 'SKILL', 'points': {'text': 'kibana', 'start': 439, 'end': 445}}\n",
      "{'label': 'SKILL', 'points': {'text': 'matplotlib', 'start': 446, 'end': 456}}\n",
      "{'label': 'SKILL', 'points': {'text': 'html', 'start': 499, 'end': 503}}\n",
      "{'label': 'SKILL', 'points': {'text': 'css', 'start': 504, 'end': 507}}\n",
      "{'label': 'SKILL', 'points': {'text': 'angular', 'start': 508, 'end': 515}}\n",
      "{'label': 'SKILL', 'points': {'text': 'logstash', 'start': 518, 'end': 526}}\n",
      "{'label': 'SKILL', 'points': {'text': 'kafka', 'start': 527, 'end': 532}}\n",
      "{'label': 'SKILL', 'points': {'text': 'python', 'start': 533, 'end': 539}}\n",
      "{'label': 'SKILL', 'points': {'text': 'flask', 'start': 540, 'end': 545}}\n",
      "{'label': 'SKILL', 'points': {'text': 'git', 'start': 546, 'end': 549}}\n",
      "{'label': 'SKILL', 'points': {'text': 'docker', 'start': 550, 'end': 556}}\n",
      "{'label': 'SKILL', 'points': {'text': 'computer_vision', 'start': 557, 'end': 572}}\n",
      "{'label': 'SKILL', 'points': {'text': 'data_science', 'start': 636, 'end': 648}}\n",
      "{'label': 'SKILL', 'points': {'text': 'data_science', 'start': 669, 'end': 681}}\n",
      "{'label': 'SKILL', 'points': {'text': 'llp', 'start': 718, 'end': 721}}\n",
      "{'label': 'SKILL', 'points': {'text': 'llp', 'start': 871, 'end': 874}}\n",
      "{'label': 'SKILL', 'points': {'text': 'fraud_investigations', 'start': 889, 'end': 909}}\n",
      "{'label': 'SKILL', 'points': {'text': 'technology', 'start': 942, 'end': 952}}\n",
      "{'label': 'SKILL', 'points': {'text': 'tar', 'start': 969, 'end': 972}}\n",
      "{'label': 'SKILL', 'points': {'text': 'technology', 'start': 973, 'end': 983}}\n",
      "{'label': 'SKILL', 'points': {'text': 'analytics', 'start': 1051, 'end': 1060}}\n",
      "{'label': 'SKILL', 'points': {'text': 'scratch', 'start': 1163, 'end': 1170}}\n",
      "{'label': 'SKILL', 'points': {'text': 'reviews', 'start': 1277, 'end': 1284}}\n",
      "{'label': 'SKILL', 'points': {'text': 'flow', 'start': 1387, 'end': 1391}}\n",
      "{'label': 'SKILL', 'points': {'text': 'research', 'start': 1414, 'end': 1422}}\n",
      "{'label': 'SKILL', 'points': {'text': 'classification', 'start': 1443, 'end': 1457}}\n",
      "{'label': 'SKILL', 'points': {'text': 'models', 'start': 1458, 'end': 1464}}\n",
      "{'label': 'SKILL', 'points': {'text': 'mining', 'start': 1489, 'end': 1495}}\n",
      "{'label': 'SKILL', 'points': {'text': 'tar', 'start': 1616, 'end': 1619}}\n",
      "{'label': 'SKILL', 'points': {'text': 'models', 'start': 1735, 'end': 1741}}\n",
      "{'label': 'SKILL', 'points': {'text': 'python', 'start': 1823, 'end': 1829}}\n",
      "{'label': 'SKILL', 'points': {'text': 'scikit-learn', 'start': 1830, 'end': 1842}}\n",
      "{'label': 'SKILL', 'points': {'text': 'lda', 'start': 1895, 'end': 1898}}\n",
      "{'label': 'SKILL', 'points': {'text': 'tableau', 'start': 1979, 'end': 1986}}\n",
      "{'label': 'SKILL', 'points': {'text': 'dashboard', 'start': 1987, 'end': 1996}}\n",
      "{'label': 'SKILL', 'points': {'text': 'data_science', 'start': 2022, 'end': 2034}}\n",
      "{'label': 'SKILL', 'points': {'text': 'text_analytics', 'start': 2069, 'end': 2083}}\n",
      "{'label': 'SKILL', 'points': {'text': 'motor_vehicle', 'start': 2086, 'end': 2099}}\n",
      "{'label': 'SKILL', 'points': {'text': 'customer', 'start': 2100, 'end': 2108}}\n",
      "{'label': 'SKILL', 'points': {'text': 'customer', 'start': 2130, 'end': 2138}}\n",
      "{'label': 'SKILL', 'points': {'text': 'survey', 'start': 2148, 'end': 2154}}\n",
      "{'label': 'SKILL', 'points': {'text': 'one', 'start': 2169, 'end': 2172}}\n",
      "{'label': 'SKILL', 'points': {'text': 'time_series_analysis', 'start': 2231, 'end': 2251}}\n",
      "{'label': 'SKILL', 'points': {'text': 'customer', 'start': 2255, 'end': 2263}}\n",
      "{'label': 'SKILL', 'points': {'text': 'heat', 'start': 2307, 'end': 2311}}\n",
      "{'label': 'SKILL', 'points': {'text': 'map', 'start': 2312, 'end': 2315}}\n",
      "{'label': 'SKILL', 'points': {'text': 'survey', 'start': 2328, 'end': 2334}}\n",
      "{'label': 'SKILL', 'points': {'text': 'survey', 'start': 2425, 'end': 2431}}\n",
      "{'label': 'SKILL', 'points': {'text': 'word', 'start': 2455, 'end': 2459}}\n",
      "{'label': 'SKILL', 'points': {'text': 'tableau', 'start': 2487, 'end': 2494}}\n",
      "{'label': 'SKILL', 'points': {'text': 'dashboards', 'start': 2495, 'end': 2505}}\n",
      "{'label': 'SKILL', 'points': {'text': 'reporting', 'start': 2520, 'end': 2529}}\n",
      "{'label': 'SKILL', 'points': {'text': 'user_friendly', 'start': 2570, 'end': 2583}}\n",
      "{'label': 'SKILL', 'points': {'text': 'one', 'start': 2596, 'end': 2599}}\n",
      "{'label': 'SKILL', 'points': {'text': 'options', 'start': 2683, 'end': 2690}}\n",
      "{'label': 'SKILL', 'points': {'text': 'chat', 'start': 2708, 'end': 2712}}\n",
      "{'label': 'SKILL', 'points': {'text': 'bot', 'start': 2713, 'end': 2716}}\n",
      "{'label': 'SKILL', 'points': {'text': 'intelligence', 'start': 2908, 'end': 2920}}\n",
      "{'label': 'SKILL', 'points': {'text': 'pipeline', 'start': 2934, 'end': 2942}}\n",
      "{'label': 'SKILL', 'points': {'text': 'python', 'start': 3047, 'end': 3053}}\n",
      "{'label': 'SKILL', 'points': {'text': 'natural_language_processing', 'start': 3054, 'end': 3081}}\n",
      "{'label': 'SKILL', 'points': {'text': 'nltk', 'start': 3082, 'end': 3086}}\n",
      "{'label': 'SKILL', 'points': {'text': 'sentiment_analysis', 'start': 3109, 'end': 3127}}\n",
      "{'label': 'SKILL', 'points': {'text': 'word', 'start': 3128, 'end': 3132}}\n",
      "{'label': 'SKILL', 'points': {'text': 'scikit-learn', 'start': 3143, 'end': 3155}}\n",
      "{'label': 'SKILL', 'points': {'text': 'javascript', 'start': 3156, 'end': 3166}}\n",
      "{'label': 'SKILL', 'points': {'text': 'jquery', 'start': 3167, 'end': 3173}}\n",
      "{'label': 'SKILL', 'points': {'text': 'information_governance', 'start': 3185, 'end': 3207}}\n",
      "{'label': 'SKILL', 'points': {'text': 'information_governance', 'start': 3305, 'end': 3327}}\n",
      "{'label': 'SKILL', 'points': {'text': 'intelligence', 'start': 3350, 'end': 3362}}\n",
      "{'label': 'SKILL', 'points': {'text': 'unstructured_data', 'start': 3370, 'end': 3387}}\n",
      "{'label': 'SKILL', 'points': {'text': 'parse', 'start': 3540, 'end': 3545}}\n",
      "{'label': 'SKILL', 'points': {'text': 'indexing', 'start': 3616, 'end': 3624}}\n",
      "{'label': 'SKILL', 'points': {'text': 'search', 'start': 3633, 'end': 3639}}\n",
      "{'label': 'SKILL', 'points': {'text': 'dashboards', 'start': 3675, 'end': 3685}}\n",
      "{'label': 'SKILL', 'points': {'text': 'search_analysis', 'start': 3865, 'end': 3880}}\n",
      "{'label': 'SKILL', 'points': {'text': 'search', 'start': 3892, 'end': 3898}}\n",
      "{'label': 'SKILL', 'points': {'text': 'pii', 'start': 3940, 'end': 3943}}\n",
      "{'label': 'SKILL', 'points': {'text': 'social_security', 'start': 3980, 'end': 3995}}\n",
      "{'label': 'SKILL', 'points': {'text': 'numbers', 'start': 3996, 'end': 4003}}\n",
      "{'label': 'SKILL', 'points': {'text': 'python', 'start': 4094, 'end': 4100}}\n",
      "{'label': 'SKILL', 'points': {'text': 'flask', 'start': 4101, 'end': 4106}}\n",
      "{'label': 'SKILL', 'points': {'text': 'search', 'start': 4115, 'end': 4121}}\n",
      "{'label': 'SKILL', 'points': {'text': 'kibana', 'start': 4122, 'end': 4128}}\n",
      "{'label': 'SKILL', 'points': {'text': 'fraud', 'start': 4130, 'end': 4135}}\n",
      "{'label': 'SKILL', 'points': {'text': 'fraud', 'start': 4154, 'end': 4159}}\n",
      "{'label': 'SKILL', 'points': {'text': 'analytics', 'start': 4160, 'end': 4169}}\n",
      "{'label': 'SKILL', 'points': {'text': 'fraud', 'start': 4237, 'end': 4242}}\n",
      "{'label': 'SKILL', 'points': {'text': 'analytics', 'start': 4243, 'end': 4252}}\n",
      "{'label': 'SKILL', 'points': {'text': 'case', 'start': 4293, 'end': 4297}}\n",
      "{'label': 'SKILL', 'points': {'text': 'suite', 'start': 4310, 'end': 4315}}\n",
      "{'label': 'SKILL', 'points': {'text': 'analytics', 'start': 4319, 'end': 4328}}\n",
      "{'label': 'SKILL', 'points': {'text': 'it', 'start': 4355, 'end': 4357}}\n",
      "{'label': 'SKILL', 'points': {'text': 'indicators', 'start': 4464, 'end': 4474}}\n",
      "{'label': 'SKILL', 'points': {'text': 'fraud', 'start': 4478, 'end': 4483}}\n",
      "{'label': 'SKILL', 'points': {'text': 'running', 'start': 4487, 'end': 4494}}\n",
      "{'label': 'SKILL', 'points': {'text': 'advanced', 'start': 4495, 'end': 4503}}\n",
      "{'label': 'SKILL', 'points': {'text': 'analytics', 'start': 4504, 'end': 4513}}\n",
      "{'label': 'SKILL', 'points': {'text': 'html', 'start': 4535, 'end': 4539}}\n",
      "{'label': 'SKILL', 'points': {'text': 'javascript', 'start': 4540, 'end': 4550}}\n",
      "{'label': 'SKILL', 'points': {'text': 'jquery', 'start': 4561, 'end': 4567}}\n",
      "{'label': 'SKILL', 'points': {'text': 'css', 'start': 4568, 'end': 4571}}\n",
      "{'label': 'SKILL', 'points': {'text': 'bootstrap', 'start': 4572, 'end': 4581}}\n",
      "{'label': 'SKILL', 'points': {'text': 'node.js', 'start': 4582, 'end': 4589}}\n",
      "{'label': 'SKILL', 'points': {'text': 'd3.js', 'start': 4590, 'end': 4595}}\n"
     ]
    }
   ],
   "source": [
    "data_dict={}\n",
    "di={}\n",
    "annotations = []\n",
    "data_dict['content']=sample_text\n",
    "\n",
    "#example dictionary constructions from the output arrays\n",
    "for i in range(len(indices)):\n",
    "    label_dict={}\n",
    "    label_dict['label'] = 'SKILL'\n",
    "    label_dict['points']  = di\n",
    "    di['text'] = words[i]\n",
    "    di['start'] = indices[i,0]\n",
    "    di['end'] = indices[i,1]\n",
    "    label_dict['points'] = di\n",
    "    print(label_dict)\n"
   ]
  },
  {
   "cell_type": "markdown",
   "id": "ade06b00",
   "metadata": {},
   "source": [
    "Create the new columns:"
   ]
  },
  {
   "cell_type": "code",
   "execution_count": 22,
   "id": "c5426a9f",
   "metadata": {},
   "outputs": [
    {
     "data": {
      "text/html": [
       "<div>\n",
       "<style scoped>\n",
       "    .dataframe tbody tr th:only-of-type {\n",
       "        vertical-align: middle;\n",
       "    }\n",
       "\n",
       "    .dataframe tbody tr th {\n",
       "        vertical-align: top;\n",
       "    }\n",
       "\n",
       "    .dataframe thead th {\n",
       "        text-align: right;\n",
       "    }\n",
       "</style>\n",
       "<table border=\"1\" class=\"dataframe\">\n",
       "  <thead>\n",
       "    <tr style=\"text-align: right;\">\n",
       "      <th></th>\n",
       "      <th>Category</th>\n",
       "      <th>Resume</th>\n",
       "      <th>Cleaned_text</th>\n",
       "      <th>indices</th>\n",
       "      <th>skill_words</th>\n",
       "    </tr>\n",
       "  </thead>\n",
       "  <tbody>\n",
       "    <tr>\n",
       "      <th>0</th>\n",
       "      <td>Data Science</td>\n",
       "      <td>Skills * Programming Languages: Python (pandas...</td>\n",
       "      <td>Skills * Programming Languages: Python (pandas...</td>\n",
       "      <td>[]</td>\n",
       "      <td>[]</td>\n",
       "    </tr>\n",
       "    <tr>\n",
       "      <th>1</th>\n",
       "      <td>Data Science</td>\n",
       "      <td>Education Details \\r\\nMay 2013 to May 2017 B.E...</td>\n",
       "      <td>Education Details \\r\\nMay 2013 to May 2017 B.E...</td>\n",
       "      <td>[]</td>\n",
       "      <td>[]</td>\n",
       "    </tr>\n",
       "    <tr>\n",
       "      <th>2</th>\n",
       "      <td>Data Science</td>\n",
       "      <td>Areas of Interest Deep Learning, Control Syste...</td>\n",
       "      <td>Areas of Interest Deep Learning, Control Syste...</td>\n",
       "      <td>[]</td>\n",
       "      <td>[]</td>\n",
       "    </tr>\n",
       "    <tr>\n",
       "      <th>3</th>\n",
       "      <td>Data Science</td>\n",
       "      <td>Skills â¢ R â¢ Python â¢ SAP HANA â¢ Table...</td>\n",
       "      <td>Skills â¢ R â¢ Python â¢ SAP HANA â¢ Table...</td>\n",
       "      <td>[]</td>\n",
       "      <td>[]</td>\n",
       "    </tr>\n",
       "    <tr>\n",
       "      <th>4</th>\n",
       "      <td>Data Science</td>\n",
       "      <td>Education Details \\r\\n MCA   YMCAUST,  Faridab...</td>\n",
       "      <td>Education Details \\r\\n MCA   YMCAUST,  Faridab...</td>\n",
       "      <td>[]</td>\n",
       "      <td>[]</td>\n",
       "    </tr>\n",
       "    <tr>\n",
       "      <th>...</th>\n",
       "      <td>...</td>\n",
       "      <td>...</td>\n",
       "      <td>...</td>\n",
       "      <td>...</td>\n",
       "      <td>...</td>\n",
       "    </tr>\n",
       "    <tr>\n",
       "      <th>957</th>\n",
       "      <td>Testing</td>\n",
       "      <td>Computer Skills: â¢ Proficient in MS office (...</td>\n",
       "      <td>Computer Skills: â¢ Proficient in MS office (...</td>\n",
       "      <td>[]</td>\n",
       "      <td>[]</td>\n",
       "    </tr>\n",
       "    <tr>\n",
       "      <th>958</th>\n",
       "      <td>Testing</td>\n",
       "      <td>â Willingness to accept the challenges. â ...</td>\n",
       "      <td>â Willingness to accept the challenges. â ...</td>\n",
       "      <td>[]</td>\n",
       "      <td>[]</td>\n",
       "    </tr>\n",
       "    <tr>\n",
       "      <th>959</th>\n",
       "      <td>Testing</td>\n",
       "      <td>PERSONAL SKILLS â¢ Quick learner, â¢ Eagerne...</td>\n",
       "      <td>PERSONAL SKILLS â¢ Quick learner, â¢ Eagerne...</td>\n",
       "      <td>[]</td>\n",
       "      <td>[]</td>\n",
       "    </tr>\n",
       "    <tr>\n",
       "      <th>960</th>\n",
       "      <td>Testing</td>\n",
       "      <td>COMPUTER SKILLS &amp; SOFTWARE KNOWLEDGE MS-Power ...</td>\n",
       "      <td>COMPUTER SKILLS &amp; SOFTWARE KNOWLEDGE MS-Power ...</td>\n",
       "      <td>[]</td>\n",
       "      <td>[]</td>\n",
       "    </tr>\n",
       "    <tr>\n",
       "      <th>961</th>\n",
       "      <td>Testing</td>\n",
       "      <td>Skill Set OS Windows XP/7/8/8.1/10 Database MY...</td>\n",
       "      <td>Skill Set OS Windows XP/7/8/8.1/10 Database MY...</td>\n",
       "      <td>[]</td>\n",
       "      <td>[]</td>\n",
       "    </tr>\n",
       "  </tbody>\n",
       "</table>\n",
       "<p>962 rows × 5 columns</p>\n",
       "</div>"
      ],
      "text/plain": [
       "         Category                                             Resume  \\\n",
       "0    Data Science  Skills * Programming Languages: Python (pandas...   \n",
       "1    Data Science  Education Details \\r\\nMay 2013 to May 2017 B.E...   \n",
       "2    Data Science  Areas of Interest Deep Learning, Control Syste...   \n",
       "3    Data Science  Skills â¢ R â¢ Python â¢ SAP HANA â¢ Table...   \n",
       "4    Data Science  Education Details \\r\\n MCA   YMCAUST,  Faridab...   \n",
       "..            ...                                                ...   \n",
       "957       Testing  Computer Skills: â¢ Proficient in MS office (...   \n",
       "958       Testing  â Willingness to accept the challenges. â ...   \n",
       "959       Testing  PERSONAL SKILLS â¢ Quick learner, â¢ Eagerne...   \n",
       "960       Testing  COMPUTER SKILLS & SOFTWARE KNOWLEDGE MS-Power ...   \n",
       "961       Testing  Skill Set OS Windows XP/7/8/8.1/10 Database MY...   \n",
       "\n",
       "                                          Cleaned_text indices skill_words  \n",
       "0    Skills * Programming Languages: Python (pandas...      []          []  \n",
       "1    Education Details \\r\\nMay 2013 to May 2017 B.E...      []          []  \n",
       "2    Areas of Interest Deep Learning, Control Syste...      []          []  \n",
       "3    Skills â¢ R â¢ Python â¢ SAP HANA â¢ Table...      []          []  \n",
       "4    Education Details \\r\\n MCA   YMCAUST,  Faridab...      []          []  \n",
       "..                                                 ...     ...         ...  \n",
       "957  Computer Skills: â¢ Proficient in MS office (...      []          []  \n",
       "958  â Willingness to accept the challenges. â ...      []          []  \n",
       "959  PERSONAL SKILLS â¢ Quick learner, â¢ Eagerne...      []          []  \n",
       "960  COMPUTER SKILLS & SOFTWARE KNOWLEDGE MS-Power ...      []          []  \n",
       "961  Skill Set OS Windows XP/7/8/8.1/10 Database MY...      []          []  \n",
       "\n",
       "[962 rows x 5 columns]"
      ]
     },
     "execution_count": 22,
     "metadata": {},
     "output_type": "execute_result"
    }
   ],
   "source": [
    "CV_data['Cleaned_text'] = CV_data['Resume']\n",
    "CV_data['indices'] =[ [] for _ in range(len(CV_data)) ]\n",
    "CV_data['skill_words'] = [ [] for _ in range(len(CV_data)) ]\n",
    "CV_data"
   ]
  },
  {
   "cell_type": "markdown",
   "id": "21c82781",
   "metadata": {},
   "source": [
    "Preparing the csv - this takes a little while (about 15-20 mins)"
   ]
  },
  {
   "cell_type": "code",
   "execution_count": 34,
   "id": "8b760d34",
   "metadata": {},
   "outputs": [
    {
     "name": "stdout",
     "output_type": "stream",
     "text": [
      "Running.....\n",
      "10 done\n",
      "100 done\n",
      "250 done\n",
      "500 done\n",
      "750 done\n"
     ]
    }
   ],
   "source": [
    "print('Running.....')\n",
    "#apply function to every CV, update dataframe columns\n",
    "for i in range(len(CV_data)):\n",
    "    if i == 10:\n",
    "        print('10 done')\n",
    "    if i == 100:\n",
    "        print('100 done')\n",
    "    if i == 250:\n",
    "        print('250 done')\n",
    "    if i == 500:\n",
    "        print('500 done')\n",
    "    if i == 750:\n",
    "        print('750 done')\n",
    "    sample_text,indices,words = get_indices(CV_data['Resume'][i],skills_multi_words,skills_dash,skills_new_set)\n",
    "    CV_data['Cleaned_text'][i] = sample_text\n",
    "    CV_data['indices'][i] = [indices]\n",
    "    CV_data['skill_words'][i] = [words]"
   ]
  },
  {
   "cell_type": "code",
   "execution_count": 32,
   "id": "88f912a0",
   "metadata": {},
   "outputs": [
    {
     "data": {
      "text/plain": [
       "array([[  13,   23],\n",
       "       [  35,   43],\n",
       "       [  44,   49],\n",
       "       [  50,   60],\n",
       "       [  78,   87],\n",
       "       [  88,   97],\n",
       "       [  98,  101],\n",
       "       [ 102,  112],\n",
       "       [ 113,  117],\n",
       "       [ 118,  121],\n",
       "       [ 122,  129],\n",
       "       [ 130,  144],\n",
       "       [ 145,  161],\n",
       "       [ 168,  180],\n",
       "       [ 185,  194],\n",
       "       [ 245,  248],\n",
       "       [ 368,  375],\n",
       "       [ 388,  395],\n",
       "       [ 701,  708],\n",
       "       [ 744,  758],\n",
       "       [ 770,  780],\n",
       "       [ 796,  806],\n",
       "       [ 836,  846],\n",
       "       [ 863,  865],\n",
       "       [ 882,  897],\n",
       "       [ 899,  908],\n",
       "       [ 954,  961],\n",
       "       [ 996, 1007],\n",
       "       [1031, 1036],\n",
       "       [1037, 1047],\n",
       "       [1048, 1057],\n",
       "       [1058, 1068],\n",
       "       [1084, 1092],\n",
       "       [1136, 1152],\n",
       "       [1173, 1180],\n",
       "       [1187, 1194],\n",
       "       [1213, 1224],\n",
       "       [1262, 1279],\n",
       "       [1293, 1300],\n",
       "       [1301, 1307],\n",
       "       [1308, 1315],\n",
       "       [1340, 1348],\n",
       "       [1355, 1374],\n",
       "       [1395, 1402],\n",
       "       [1429, 1439],\n",
       "       [1468, 1479],\n",
       "       [1511, 1516],\n",
       "       [1517, 1527],\n",
       "       [1528, 1537],\n",
       "       [1538, 1548],\n",
       "       [1555, 1571],\n",
       "       [1592, 1599],\n",
       "       [1606, 1609],\n",
       "       [1665, 1670],\n",
       "       [1671, 1681],\n",
       "       [1682, 1691],\n",
       "       [1692, 1702],\n",
       "       [1709, 1725]])"
      ]
     },
     "execution_count": 32,
     "metadata": {},
     "output_type": "execute_result"
    }
   ],
   "source": [
    "indices"
   ]
  },
  {
   "cell_type": "code",
   "execution_count": 35,
   "id": "6165b15b",
   "metadata": {},
   "outputs": [
    {
     "data": {
      "text/html": [
       "<div>\n",
       "<style scoped>\n",
       "    .dataframe tbody tr th:only-of-type {\n",
       "        vertical-align: middle;\n",
       "    }\n",
       "\n",
       "    .dataframe tbody tr th {\n",
       "        vertical-align: top;\n",
       "    }\n",
       "\n",
       "    .dataframe thead th {\n",
       "        text-align: right;\n",
       "    }\n",
       "</style>\n",
       "<table border=\"1\" class=\"dataframe\">\n",
       "  <thead>\n",
       "    <tr style=\"text-align: right;\">\n",
       "      <th></th>\n",
       "      <th>Category</th>\n",
       "      <th>Resume</th>\n",
       "      <th>Cleaned_text</th>\n",
       "      <th>indices</th>\n",
       "      <th>skill_words</th>\n",
       "    </tr>\n",
       "  </thead>\n",
       "  <tbody>\n",
       "    <tr>\n",
       "      <th>0</th>\n",
       "      <td>Data Science</td>\n",
       "      <td>Skills * Programming Languages: Python (pandas...</td>\n",
       "      <td>Skills Programming Languages Python pandas num...</td>\n",
       "      <td>[[[7, 28], [29, 35], [36, 42], [43, 48], [49, ...</td>\n",
       "      <td>[[programming_languages, python, pandas, numpy...</td>\n",
       "    </tr>\n",
       "    <tr>\n",
       "      <th>1</th>\n",
       "      <td>Data Science</td>\n",
       "      <td>Education Details \\r\\nMay 2013 to May 2017 B.E...</td>\n",
       "      <td>Education Details  May 2013 to May 2017 B.E  U...</td>\n",
       "      <td>[[[464, 466], [654, 659], [663, 679], [729, 73...</td>\n",
       "      <td>[[ml, steps, machine_learning, encoding, featu...</td>\n",
       "    </tr>\n",
       "    <tr>\n",
       "      <th>2</th>\n",
       "      <td>Data Science</td>\n",
       "      <td>Areas of Interest Deep Learning, Control Syste...</td>\n",
       "      <td>Areas of Interest Deep Learning Control System...</td>\n",
       "      <td>[[[18, 31], [47, 65], [85, 94], [95, 110], [11...</td>\n",
       "      <td>[[deep_learning, design_programming, machinery...</td>\n",
       "    </tr>\n",
       "    <tr>\n",
       "      <th>3</th>\n",
       "      <td>Data Science</td>\n",
       "      <td>Skills â¢ R â¢ Python â¢ SAP HANA â¢ Table...</td>\n",
       "      <td>Skills  R  Python  SAP HANA  Tableau  SAP HANA...</td>\n",
       "      <td>[[[8, 9], [11, 17], [19, 27], [29, 36], [38, 4...</td>\n",
       "      <td>[[r, python, sap_hana, tableau, sap_hana, sql,...</td>\n",
       "    </tr>\n",
       "    <tr>\n",
       "      <th>4</th>\n",
       "      <td>Data Science</td>\n",
       "      <td>Education Details \\r\\n MCA   YMCAUST,  Faridab...</td>\n",
       "      <td>Education Details  MCA  YMCAUST  Faridabad  Ha...</td>\n",
       "      <td>[[[52, 64], [325, 333]]]</td>\n",
       "      <td>[[data_science, database]]</td>\n",
       "    </tr>\n",
       "    <tr>\n",
       "      <th>...</th>\n",
       "      <td>...</td>\n",
       "      <td>...</td>\n",
       "      <td>...</td>\n",
       "      <td>...</td>\n",
       "      <td>...</td>\n",
       "    </tr>\n",
       "    <tr>\n",
       "      <th>957</th>\n",
       "      <td>Testing</td>\n",
       "      <td>Computer Skills: â¢ Proficient in MS office (...</td>\n",
       "      <td>Computer Skills  Proficient in MS office Word ...</td>\n",
       "      <td>[[[0, 15], [34, 40], [41, 45], [46, 51], [52, ...</td>\n",
       "      <td>[[computer_skills, office, word, basic, excel,...</td>\n",
       "    </tr>\n",
       "    <tr>\n",
       "      <th>958</th>\n",
       "      <td>Testing</td>\n",
       "      <td>â Willingness to accept the challenges. â ...</td>\n",
       "      <td>Willingness to accept the challenges.  Positi...</td>\n",
       "      <td>[[[347, 358], [490, 501], [570, 577], [587, 59...</td>\n",
       "      <td>[[electronics, electronics, testing, electroni...</td>\n",
       "    </tr>\n",
       "    <tr>\n",
       "      <th>959</th>\n",
       "      <td>Testing</td>\n",
       "      <td>PERSONAL SKILLS â¢ Quick learner, â¢ Eagerne...</td>\n",
       "      <td>PERSONAL SKILLS  Quick learner  Eagerness to l...</td>\n",
       "      <td>[[[90, 100], [408, 416], [628, 635], [665, 672...</td>\n",
       "      <td>[[leadership, research, testing, testing, tran...</td>\n",
       "    </tr>\n",
       "    <tr>\n",
       "      <th>960</th>\n",
       "      <td>Testing</td>\n",
       "      <td>COMPUTER SKILLS &amp; SOFTWARE KNOWLEDGE MS-Power ...</td>\n",
       "      <td>COMPUTER SKILLS &amp; SOFTWARE KNOWLEDGE MS-Power ...</td>\n",
       "      <td>[[[0, 15], [57, 63], [64, 65], [74, 84], [105,...</td>\n",
       "      <td>[[computer_skills, office, c, pcb_design, matl...</td>\n",
       "    </tr>\n",
       "    <tr>\n",
       "      <th>961</th>\n",
       "      <td>Testing</td>\n",
       "      <td>Skill Set OS Windows XP/7/8/8.1/10 Database MY...</td>\n",
       "      <td>Skill Set OS Windows XP 7 8 8.1 10 Database MY...</td>\n",
       "      <td>[[[13, 23], [35, 43], [44, 49], [50, 60], [78,...</td>\n",
       "      <td>[[windows_xp, database, mysql, sql_server, lan...</td>\n",
       "    </tr>\n",
       "  </tbody>\n",
       "</table>\n",
       "<p>962 rows × 5 columns</p>\n",
       "</div>"
      ],
      "text/plain": [
       "         Category                                             Resume  \\\n",
       "0    Data Science  Skills * Programming Languages: Python (pandas...   \n",
       "1    Data Science  Education Details \\r\\nMay 2013 to May 2017 B.E...   \n",
       "2    Data Science  Areas of Interest Deep Learning, Control Syste...   \n",
       "3    Data Science  Skills â¢ R â¢ Python â¢ SAP HANA â¢ Table...   \n",
       "4    Data Science  Education Details \\r\\n MCA   YMCAUST,  Faridab...   \n",
       "..            ...                                                ...   \n",
       "957       Testing  Computer Skills: â¢ Proficient in MS office (...   \n",
       "958       Testing  â Willingness to accept the challenges. â ...   \n",
       "959       Testing  PERSONAL SKILLS â¢ Quick learner, â¢ Eagerne...   \n",
       "960       Testing  COMPUTER SKILLS & SOFTWARE KNOWLEDGE MS-Power ...   \n",
       "961       Testing  Skill Set OS Windows XP/7/8/8.1/10 Database MY...   \n",
       "\n",
       "                                          Cleaned_text  \\\n",
       "0    Skills Programming Languages Python pandas num...   \n",
       "1    Education Details  May 2013 to May 2017 B.E  U...   \n",
       "2    Areas of Interest Deep Learning Control System...   \n",
       "3    Skills  R  Python  SAP HANA  Tableau  SAP HANA...   \n",
       "4    Education Details  MCA  YMCAUST  Faridabad  Ha...   \n",
       "..                                                 ...   \n",
       "957  Computer Skills  Proficient in MS office Word ...   \n",
       "958   Willingness to accept the challenges.  Positi...   \n",
       "959  PERSONAL SKILLS  Quick learner  Eagerness to l...   \n",
       "960  COMPUTER SKILLS & SOFTWARE KNOWLEDGE MS-Power ...   \n",
       "961  Skill Set OS Windows XP 7 8 8.1 10 Database MY...   \n",
       "\n",
       "                                               indices  \\\n",
       "0    [[[7, 28], [29, 35], [36, 42], [43, 48], [49, ...   \n",
       "1    [[[464, 466], [654, 659], [663, 679], [729, 73...   \n",
       "2    [[[18, 31], [47, 65], [85, 94], [95, 110], [11...   \n",
       "3    [[[8, 9], [11, 17], [19, 27], [29, 36], [38, 4...   \n",
       "4                             [[[52, 64], [325, 333]]]   \n",
       "..                                                 ...   \n",
       "957  [[[0, 15], [34, 40], [41, 45], [46, 51], [52, ...   \n",
       "958  [[[347, 358], [490, 501], [570, 577], [587, 59...   \n",
       "959  [[[90, 100], [408, 416], [628, 635], [665, 672...   \n",
       "960  [[[0, 15], [57, 63], [64, 65], [74, 84], [105,...   \n",
       "961  [[[13, 23], [35, 43], [44, 49], [50, 60], [78,...   \n",
       "\n",
       "                                           skill_words  \n",
       "0    [[programming_languages, python, pandas, numpy...  \n",
       "1    [[ml, steps, machine_learning, encoding, featu...  \n",
       "2    [[deep_learning, design_programming, machinery...  \n",
       "3    [[r, python, sap_hana, tableau, sap_hana, sql,...  \n",
       "4                           [[data_science, database]]  \n",
       "..                                                 ...  \n",
       "957  [[computer_skills, office, word, basic, excel,...  \n",
       "958  [[electronics, electronics, testing, electroni...  \n",
       "959  [[leadership, research, testing, testing, tran...  \n",
       "960  [[computer_skills, office, c, pcb_design, matl...  \n",
       "961  [[windows_xp, database, mysql, sql_server, lan...  \n",
       "\n",
       "[962 rows x 5 columns]"
      ]
     },
     "execution_count": 35,
     "metadata": {},
     "output_type": "execute_result"
    }
   ],
   "source": [
    "CV_data"
   ]
  },
  {
   "cell_type": "markdown",
   "id": "805a4f76",
   "metadata": {},
   "source": [
    "Save the csv"
   ]
  },
  {
   "cell_type": "code",
   "execution_count": 46,
   "id": "4a4763e2",
   "metadata": {},
   "outputs": [
    {
     "data": {
      "text/html": [
       "<div>\n",
       "<style scoped>\n",
       "    .dataframe tbody tr th:only-of-type {\n",
       "        vertical-align: middle;\n",
       "    }\n",
       "\n",
       "    .dataframe tbody tr th {\n",
       "        vertical-align: top;\n",
       "    }\n",
       "\n",
       "    .dataframe thead th {\n",
       "        text-align: right;\n",
       "    }\n",
       "</style>\n",
       "<table border=\"1\" class=\"dataframe\">\n",
       "  <thead>\n",
       "    <tr style=\"text-align: right;\">\n",
       "      <th></th>\n",
       "      <th>Category</th>\n",
       "      <th>Resume</th>\n",
       "      <th>Cleaned_text</th>\n",
       "      <th>indices</th>\n",
       "      <th>skill_words</th>\n",
       "    </tr>\n",
       "  </thead>\n",
       "  <tbody>\n",
       "    <tr>\n",
       "      <th>0</th>\n",
       "      <td>Data Science</td>\n",
       "      <td>Skills * Programming Languages: Python (pandas...</td>\n",
       "      <td>Skills Programming Languages Python pandas num...</td>\n",
       "      <td>[[[7, 28], [29, 35], [36, 42], [43, 48], [49, ...</td>\n",
       "      <td>[[programming_languages, python, pandas, numpy...</td>\n",
       "    </tr>\n",
       "    <tr>\n",
       "      <th>1</th>\n",
       "      <td>Data Science</td>\n",
       "      <td>Education Details \\r\\nMay 2013 to May 2017 B.E...</td>\n",
       "      <td>Education Details  May 2013 to May 2017 B.E  U...</td>\n",
       "      <td>[[[464, 466], [654, 659], [663, 679], [729, 73...</td>\n",
       "      <td>[[ml, steps, machine_learning, encoding, featu...</td>\n",
       "    </tr>\n",
       "    <tr>\n",
       "      <th>2</th>\n",
       "      <td>Data Science</td>\n",
       "      <td>Areas of Interest Deep Learning, Control Syste...</td>\n",
       "      <td>Areas of Interest Deep Learning Control System...</td>\n",
       "      <td>[[[18, 31], [47, 65], [85, 94], [95, 110], [11...</td>\n",
       "      <td>[[deep_learning, design_programming, machinery...</td>\n",
       "    </tr>\n",
       "    <tr>\n",
       "      <th>3</th>\n",
       "      <td>Data Science</td>\n",
       "      <td>Skills â¢ R â¢ Python â¢ SAP HANA â¢ Table...</td>\n",
       "      <td>Skills  R  Python  SAP HANA  Tableau  SAP HANA...</td>\n",
       "      <td>[[[8, 9], [11, 17], [19, 27], [29, 36], [38, 4...</td>\n",
       "      <td>[[r, python, sap_hana, tableau, sap_hana, sql,...</td>\n",
       "    </tr>\n",
       "    <tr>\n",
       "      <th>4</th>\n",
       "      <td>Data Science</td>\n",
       "      <td>Education Details \\r\\n MCA   YMCAUST,  Faridab...</td>\n",
       "      <td>Education Details  MCA  YMCAUST  Faridabad  Ha...</td>\n",
       "      <td>[[[52, 64], [325, 333]]]</td>\n",
       "      <td>[[data_science, database]]</td>\n",
       "    </tr>\n",
       "    <tr>\n",
       "      <th>...</th>\n",
       "      <td>...</td>\n",
       "      <td>...</td>\n",
       "      <td>...</td>\n",
       "      <td>...</td>\n",
       "      <td>...</td>\n",
       "    </tr>\n",
       "    <tr>\n",
       "      <th>957</th>\n",
       "      <td>Testing</td>\n",
       "      <td>Computer Skills: â¢ Proficient in MS office (...</td>\n",
       "      <td>Computer Skills  Proficient in MS office Word ...</td>\n",
       "      <td>[[[0, 15], [34, 40], [41, 45], [46, 51], [52, ...</td>\n",
       "      <td>[[computer_skills, office, word, basic, excel,...</td>\n",
       "    </tr>\n",
       "    <tr>\n",
       "      <th>958</th>\n",
       "      <td>Testing</td>\n",
       "      <td>â Willingness to accept the challenges. â ...</td>\n",
       "      <td>Willingness to accept the challenges.  Positi...</td>\n",
       "      <td>[[[347, 358], [490, 501], [570, 577], [587, 59...</td>\n",
       "      <td>[[electronics, electronics, testing, electroni...</td>\n",
       "    </tr>\n",
       "    <tr>\n",
       "      <th>959</th>\n",
       "      <td>Testing</td>\n",
       "      <td>PERSONAL SKILLS â¢ Quick learner, â¢ Eagerne...</td>\n",
       "      <td>PERSONAL SKILLS  Quick learner  Eagerness to l...</td>\n",
       "      <td>[[[90, 100], [408, 416], [628, 635], [665, 672...</td>\n",
       "      <td>[[leadership, research, testing, testing, tran...</td>\n",
       "    </tr>\n",
       "    <tr>\n",
       "      <th>960</th>\n",
       "      <td>Testing</td>\n",
       "      <td>COMPUTER SKILLS &amp; SOFTWARE KNOWLEDGE MS-Power ...</td>\n",
       "      <td>COMPUTER SKILLS &amp; SOFTWARE KNOWLEDGE MS-Power ...</td>\n",
       "      <td>[[[0, 15], [57, 63], [64, 65], [74, 84], [105,...</td>\n",
       "      <td>[[computer_skills, office, c, pcb_design, matl...</td>\n",
       "    </tr>\n",
       "    <tr>\n",
       "      <th>961</th>\n",
       "      <td>Testing</td>\n",
       "      <td>Skill Set OS Windows XP/7/8/8.1/10 Database MY...</td>\n",
       "      <td>Skill Set OS Windows XP 7 8 8.1 10 Database MY...</td>\n",
       "      <td>[[[13, 23], [35, 43], [44, 49], [50, 60], [78,...</td>\n",
       "      <td>[[windows_xp, database, mysql, sql_server, lan...</td>\n",
       "    </tr>\n",
       "  </tbody>\n",
       "</table>\n",
       "<p>962 rows × 5 columns</p>\n",
       "</div>"
      ],
      "text/plain": [
       "         Category                                             Resume  \\\n",
       "0    Data Science  Skills * Programming Languages: Python (pandas...   \n",
       "1    Data Science  Education Details \\r\\nMay 2013 to May 2017 B.E...   \n",
       "2    Data Science  Areas of Interest Deep Learning, Control Syste...   \n",
       "3    Data Science  Skills â¢ R â¢ Python â¢ SAP HANA â¢ Table...   \n",
       "4    Data Science  Education Details \\r\\n MCA   YMCAUST,  Faridab...   \n",
       "..            ...                                                ...   \n",
       "957       Testing  Computer Skills: â¢ Proficient in MS office (...   \n",
       "958       Testing  â Willingness to accept the challenges. â ...   \n",
       "959       Testing  PERSONAL SKILLS â¢ Quick learner, â¢ Eagerne...   \n",
       "960       Testing  COMPUTER SKILLS & SOFTWARE KNOWLEDGE MS-Power ...   \n",
       "961       Testing  Skill Set OS Windows XP/7/8/8.1/10 Database MY...   \n",
       "\n",
       "                                          Cleaned_text  \\\n",
       "0    Skills Programming Languages Python pandas num...   \n",
       "1    Education Details  May 2013 to May 2017 B.E  U...   \n",
       "2    Areas of Interest Deep Learning Control System...   \n",
       "3    Skills  R  Python  SAP HANA  Tableau  SAP HANA...   \n",
       "4    Education Details  MCA  YMCAUST  Faridabad  Ha...   \n",
       "..                                                 ...   \n",
       "957  Computer Skills  Proficient in MS office Word ...   \n",
       "958   Willingness to accept the challenges.  Positi...   \n",
       "959  PERSONAL SKILLS  Quick learner  Eagerness to l...   \n",
       "960  COMPUTER SKILLS & SOFTWARE KNOWLEDGE MS-Power ...   \n",
       "961  Skill Set OS Windows XP 7 8 8.1 10 Database MY...   \n",
       "\n",
       "                                               indices  \\\n",
       "0    [[[7, 28], [29, 35], [36, 42], [43, 48], [49, ...   \n",
       "1    [[[464, 466], [654, 659], [663, 679], [729, 73...   \n",
       "2    [[[18, 31], [47, 65], [85, 94], [95, 110], [11...   \n",
       "3    [[[8, 9], [11, 17], [19, 27], [29, 36], [38, 4...   \n",
       "4                             [[[52, 64], [325, 333]]]   \n",
       "..                                                 ...   \n",
       "957  [[[0, 15], [34, 40], [41, 45], [46, 51], [52, ...   \n",
       "958  [[[347, 358], [490, 501], [570, 577], [587, 59...   \n",
       "959  [[[90, 100], [408, 416], [628, 635], [665, 672...   \n",
       "960  [[[0, 15], [57, 63], [64, 65], [74, 84], [105,...   \n",
       "961  [[[13, 23], [35, 43], [44, 49], [50, 60], [78,...   \n",
       "\n",
       "                                           skill_words  \n",
       "0    [[programming_languages, python, pandas, numpy...  \n",
       "1    [[ml, steps, machine_learning, encoding, featu...  \n",
       "2    [[deep_learning, design_programming, machinery...  \n",
       "3    [[r, python, sap_hana, tableau, sap_hana, sql,...  \n",
       "4                           [[data_science, database]]  \n",
       "..                                                 ...  \n",
       "957  [[computer_skills, office, word, basic, excel,...  \n",
       "958  [[electronics, electronics, testing, electroni...  \n",
       "959  [[leadership, research, testing, testing, tran...  \n",
       "960  [[computer_skills, office, c, pcb_design, matl...  \n",
       "961  [[windows_xp, database, mysql, sql_server, lan...  \n",
       "\n",
       "[962 rows x 5 columns]"
      ]
     },
     "execution_count": 46,
     "metadata": {},
     "output_type": "execute_result"
    }
   ],
   "source": [
    "CV_data['indices'] = CV_data['indices'].apply(lambda r: tuple(r)).apply(np.array)\n",
    "CV_data"
   ]
  },
  {
   "cell_type": "code",
   "execution_count": 47,
   "id": "543b397f",
   "metadata": {},
   "outputs": [
    {
     "data": {
      "text/plain": [
       "Index(['Category', 'Resume', 'Cleaned_text', 'indices', 'skill_words'], dtype='object')"
      ]
     },
     "execution_count": 47,
     "metadata": {},
     "output_type": "execute_result"
    }
   ],
   "source": [
    "CV_data.columns"
   ]
  },
  {
   "cell_type": "code",
   "execution_count": 36,
   "id": "0566cd89",
   "metadata": {},
   "outputs": [],
   "source": [
    "CV_data.to_csv('Cleaned_data.csv') #save as csv"
   ]
  },
  {
   "cell_type": "markdown",
   "id": "ce71b322",
   "metadata": {},
   "source": [
    "## Visualising Skills"
   ]
  },
  {
   "cell_type": "code",
   "execution_count": 25,
   "id": "2cc52891",
   "metadata": {},
   "outputs": [
    {
     "data": {
      "text/html": [
       "<div>\n",
       "<style scoped>\n",
       "    .dataframe tbody tr th:only-of-type {\n",
       "        vertical-align: middle;\n",
       "    }\n",
       "\n",
       "    .dataframe tbody tr th {\n",
       "        vertical-align: top;\n",
       "    }\n",
       "\n",
       "    .dataframe thead th {\n",
       "        text-align: right;\n",
       "    }\n",
       "</style>\n",
       "<table border=\"1\" class=\"dataframe\">\n",
       "  <thead>\n",
       "    <tr style=\"text-align: right;\">\n",
       "      <th></th>\n",
       "      <th>SkillWords</th>\n",
       "      <th>count</th>\n",
       "    </tr>\n",
       "  </thead>\n",
       "  <tbody>\n",
       "    <tr>\n",
       "      <th>0</th>\n",
       "      <td>project</td>\n",
       "      <td>3051</td>\n",
       "    </tr>\n",
       "    <tr>\n",
       "      <th>1</th>\n",
       "      <td>database</td>\n",
       "      <td>939</td>\n",
       "    </tr>\n",
       "    <tr>\n",
       "      <th>2</th>\n",
       "      <td>application</td>\n",
       "      <td>830</td>\n",
       "    </tr>\n",
       "    <tr>\n",
       "      <th>3</th>\n",
       "      <td>java</td>\n",
       "      <td>774</td>\n",
       "    </tr>\n",
       "    <tr>\n",
       "      <th>4</th>\n",
       "      <td>it</td>\n",
       "      <td>644</td>\n",
       "    </tr>\n",
       "    <tr>\n",
       "      <th>...</th>\n",
       "      <td>...</td>\n",
       "      <td>...</td>\n",
       "    </tr>\n",
       "    <tr>\n",
       "      <th>2118</th>\n",
       "      <td>nunit</td>\n",
       "      <td>1</td>\n",
       "    </tr>\n",
       "    <tr>\n",
       "      <th>2119</th>\n",
       "      <td>cucumber</td>\n",
       "      <td>1</td>\n",
       "    </tr>\n",
       "    <tr>\n",
       "      <th>2120</th>\n",
       "      <td>fuel</td>\n",
       "      <td>1</td>\n",
       "    </tr>\n",
       "    <tr>\n",
       "      <th>2121</th>\n",
       "      <td>agile_methodologies</td>\n",
       "      <td>1</td>\n",
       "    </tr>\n",
       "    <tr>\n",
       "      <th>2122</th>\n",
       "      <td>business_solution</td>\n",
       "      <td>1</td>\n",
       "    </tr>\n",
       "  </tbody>\n",
       "</table>\n",
       "<p>2123 rows × 2 columns</p>\n",
       "</div>"
      ],
      "text/plain": [
       "               SkillWords  count\n",
       "0                 project   3051\n",
       "1                database    939\n",
       "2             application    830\n",
       "3                    java    774\n",
       "4                      it    644\n",
       "...                   ...    ...\n",
       "2118                nunit      1\n",
       "2119             cucumber      1\n",
       "2120                 fuel      1\n",
       "2121  agile_methodologies      1\n",
       "2122    business_solution      1\n",
       "\n",
       "[2123 rows x 2 columns]"
      ]
     },
     "execution_count": 25,
     "metadata": {},
     "output_type": "execute_result"
    }
   ],
   "source": [
    "skillwords_list = [item for sublist in CV_data['skill_words'] for item in sublist] #grab all the skill words\n",
    "skillwords = pd.DataFrame({'SkillWords':skillwords_list})\n",
    "value_counts = skillwords.value_counts().reset_index() # count which are the most common\n",
    "value_counts"
   ]
  },
  {
   "cell_type": "code",
   "execution_count": 26,
   "id": "f90c9dff",
   "metadata": {},
   "outputs": [
    {
     "data": {
      "image/png": "[encoded data removed]",
      "text/plain": [
       "<Figure size 1500x600 with 1 Axes>"
      ]
     },
     "metadata": {},
     "output_type": "display_data"
    }
   ],
   "source": [
    "import matplotlib.pyplot as plt\n",
    "import matplotlib as mpl\n",
    "mpl.rc('font',size=9)\n",
    "plt.figure(figsize=(15,6))\n",
    "plt.bar(value_counts['SkillWords'][0:50],value_counts['count'][0:50])\n",
    "plt.xticks(rotation=70)\n",
    "plt.ylabel('Frequency')\n",
    "plt.show()"
   ]
  },
  {
   "cell_type": "markdown",
   "id": "51736a86",
   "metadata": {},
   "source": [
    "Showing the top 50 most annotated skills"
   ]
  },
  {
   "cell_type": "code",
   "execution_count": 27,
   "id": "e87abf05",
   "metadata": {},
   "outputs": [
    {
     "data": {
      "text/plain": [
       "array(['Data Science', 'HR', 'Advocate', 'Arts', 'Web Designing',\n",
       "       'Mechanical Engineer', 'Sales', 'Health and fitness',\n",
       "       'Civil Engineer', 'Java Developer', 'Business Analyst',\n",
       "       'SAP Developer', 'Automation Testing', 'Electrical Engineering',\n",
       "       'Operations Manager', 'Python Developer', 'DevOps Engineer',\n",
       "       'Network Security Engineer', 'PMO', 'Database', 'Hadoop',\n",
       "       'ETL Developer', 'DotNet Developer', 'Blockchain', 'Testing'],\n",
       "      dtype=object)"
      ]
     },
     "execution_count": 27,
     "metadata": {},
     "output_type": "execute_result"
    }
   ],
   "source": [
    "pd.unique(CV_data['Category']) #what categories do we have?"
   ]
  },
  {
   "cell_type": "code",
   "execution_count": 29,
   "id": "ee6471e5",
   "metadata": {},
   "outputs": [],
   "source": [
    "#Top skills per category?"
   ]
  }
 ],
 "metadata": {
  "kernelspec": {
   "display_name": "Python 3 (ipykernel)",
   "language": "python",
   "name": "python3"
  },
  "language_info": {
   "codemirror_mode": {
    "name": "ipython",
    "version": 3
   },
   "file_extension": ".py",
   "mimetype": "text/x-python",
   "name": "python",
   "nbconvert_exporter": "python",
   "pygments_lexer": "ipython3",
   "version": "3.8.18"
  }
 },
 "nbformat": 4,
 "nbformat_minor": 5
}
